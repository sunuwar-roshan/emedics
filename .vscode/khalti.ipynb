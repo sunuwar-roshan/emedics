{
 "cells": [
  {
   "cell_type": "code",
   "execution_count": 1,
   "id": "14f120d4",
   "metadata": {},
   "outputs": [],
   "source": [
    "import requests\n",
    "import json\n",
    "\n",
    "url = \"https://dev.khalti.com/api/v2/epayment/initiate/\"\n",
    "\n",
    "payload = json.dumps({\n",
    "    \"return_url\": \"http://127.0.0.1:8000/\",\n",
    "    \"website_url\": \"http://127.0.0.1:8000/\",\n",
    "    \"amount\": \"1234\",\n",
    "    \"purchase_order_id\": \"Emedic Order01\",\n",
    "    \"purchase_order_name\": \"Emedic test\",\n",
    "    \"customer_info\": {\n",
    "    \"name\": \"Lakesh Shreshta\",\n",
    "    \"address\": \"Kathmandu\",\n",
    "    \"email\": \"test@khalti.com\",\n",
    "    \"phone\": \"9800000001\"\n",
    "    }\n",
    "})\n",
    "# 0110f9b61e5e45a6a0fb05bae4321f88\n",
    "# 1364cf2759394dad826fa1a36a3ad4c3\n",
    "headers = {\n",
    "    # 'Authorization': 'key live_secret_key_68791341fdd94846a146f0457ff7b455',\n",
    "    'Authorization': 'key 1364cf2759394dad826fa1a36a3ad4c3',\n",
    "    'Content-Type': 'application/json',\n",
    "}\n",
    "\n",
    "response = requests.request(\"POST\", url, headers=headers, data=payload)\n",
    "\n",
    "# print(response.text)"
   ]
  },
  {
   "cell_type": "code",
   "execution_count": 2,
   "id": "5bbc1e3c",
   "metadata": {},
   "outputs": [
    {
     "data": {
      "text/plain": [
       "'{\"pidx\":\"JWdYULRB7zuoJVL4cnah7B\",\"payment_url\":\"https://test-pay.khalti.com/?pidx=JWdYULRB7zuoJVL4cnah7B\",\"expires_at\":\"2025-05-06T13:37:55.230526+05:45\",\"expires_in\":1800}'"
      ]
     },
     "execution_count": 2,
     "metadata": {},
     "output_type": "execute_result"
    }
   ],
   "source": [
    "response.text"
   ]
  }
 ],
 "metadata": {
  "kernelspec": {
   "display_name": ".venv",
   "language": "python",
   "name": "python3"
  },
  "language_info": {
   "codemirror_mode": {
    "name": "ipython",
    "version": 3
   },
   "file_extension": ".py",
   "mimetype": "text/x-python",
   "name": "python",
   "nbconvert_exporter": "python",
   "pygments_lexer": "ipython3",
   "version": "3.12.3"
  }
 },
 "nbformat": 4,
 "nbformat_minor": 5
}
